{
  "nbformat": 4,
  "nbformat_minor": 0,
  "metadata": {
    "colab": {
      "provenance": []
    },
    "kernelspec": {
      "name": "python3",
      "display_name": "Python 3"
    },
    "language_info": {
      "name": "python"
    }
  },
  "cells": [
    {
      "cell_type": "markdown",
      "source": [
        "## **PYTHON BASICS**"
      ],
      "metadata": {
        "id": "ifpVu1Kgg4lJ"
      }
    },
    {
      "cell_type": "markdown",
      "source": [
        "1.What is Python, and why is it popular?\n",
        "  - Python is a versatile, easy-to-read programming language used for web development, data science, AI, and moe.It is popular due to its simplicity, rich libraries, and large community.\n",
        "\n",
        "2.What is an interpreter in Python?\n",
        "  - An interpreter in Python is a program that executes Python code line by line, allowing immediate feedback.\n",
        "\n",
        "3.What are pre-defined keywords in Python?\n",
        "  - Pre defined keywords are reserved words in python that have special meaning and can not be used as variable names. Eg- True, if, else, import.\n",
        "\n",
        "4.Can keywords be used as variable names?\n",
        "  -No, keywords are reserved and cant be used as variable names.\n",
        "\n",
        "5.What is mutability in Python?\n",
        "  - Mutability means an object can be changed after creation.Eg-Lists are mutable.\n",
        "\n",
        "6.Why are lists mutable, but tuples are immutable ?\n",
        "  -Lists are mutable because they are designed to allow modification of their contents after creation.\n",
        "  Tuples are immutable to provide safety and stability, especially when used as keys in dictionaries or as elements in sets. Their immutability ensures that the values they store do not change accidentally, making them reliable for use in such contexts.\n",
        "\n",
        "7.What is the difference between “==” and “is” operators in Python ?\n",
        "  - == -> checks if the values of two objects are equal. It compares the content of the objects.\n",
        "  is : checks whether the two objects point to the same memory location.\n",
        "\n",
        "8.What are logical operators in Python?\n",
        "  - Logical operators in Python (and, or,not) are used to combine contional statements.\n",
        "\n",
        "9.What is typecasting in python?\n",
        "  - Changing the datatype of one variable to another.\n",
        "    a='10'\n",
        "    b= int(a)\n",
        "\n",
        "10.What is the difference between implicit and explicit type casting?\n",
        "  -IMPLICIT TYPE CASTING is done automatically by python while EXPLICICT  is done manually.\n",
        "\n",
        "11.What is the purpose of conditional statements in Python?\n",
        "  -  Conditional statements help to execute the program based on whether a condition is true or false. It includes if, elif, else.\n",
        "\n",
        "12.How does the elif statement work?\n",
        "  -If the if condition is false, the program checks the condition in the elif statement.For multiple elif statements, the first one that is true will execute.\n",
        "\n",
        "13.What is the difference between for and while loops?\n",
        "  -for is used for iterating over a sequence,  while continues as long as a condition is true.\n",
        "\n",
        "14.Describe a scenario where a while loop is more suitable than a for loop.\n",
        "  - while loop is more suitable when the number of iterations is not known and want the loop to continue until a condition is met."
      ],
      "metadata": {
        "id": "rKLLfz49hUqI"
      }
    },
    {
      "cell_type": "code",
      "source": [
        "#q1\n",
        "print(\"Hello, World!)"
      ],
      "metadata": {
        "id": "0_RT81Ty8R9y"
      },
      "execution_count": null,
      "outputs": []
    },
    {
      "cell_type": "code",
      "source": [
        "#Q2\n",
        "name= \"Manya Dawar\"\n",
        "age=18\n",
        "print(name, age, sep='\\n')"
      ],
      "metadata": {
        "colab": {
          "base_uri": "https://localhost:8080/"
        },
        "id": "ppNaPtKh8g61",
        "outputId": "02b10940-6f69-4628-9db8-a89bb99a332d"
      },
      "execution_count": null,
      "outputs": [
        {
          "output_type": "stream",
          "name": "stdout",
          "text": [
            "Manya Dawar\n",
            "18\n"
          ]
        }
      ]
    },
    {
      "cell_type": "code",
      "source": [
        "#Q3 Write code to print all the pre-defined keywords in Python using the keyword library\n",
        "help(\"keywords\")"
      ],
      "metadata": {
        "colab": {
          "base_uri": "https://localhost:8080/"
        },
        "id": "NMBUV2bs850_",
        "outputId": "8b8dfda5-49ab-48a4-c080-45d48ee47ffa"
      },
      "execution_count": null,
      "outputs": [
        {
          "output_type": "stream",
          "name": "stdout",
          "text": [
            "\n",
            "Here is a list of the Python keywords.  Enter any keyword to get more help.\n",
            "\n",
            "False               class               from                or\n",
            "None                continue            global              pass\n",
            "True                def                 if                  raise\n",
            "and                 del                 import              return\n",
            "as                  elif                in                  try\n",
            "assert              else                is                  while\n",
            "async               except              lambda              with\n",
            "await               finally             nonlocal            yield\n",
            "break               for                 not                 \n",
            "\n"
          ]
        }
      ]
    },
    {
      "cell_type": "code",
      "source": [
        "#Q4 to check whether a given word is keyword or not\n",
        "import keyword\n",
        "word = input(\"Enter a word: \")\n",
        "if keyword.iskeyword(word):\n",
        "    print(word, \"is a Python keyword.\")\n",
        "else:\n",
        "    print(word, \"is not a Python keyword.\")\n"
      ],
      "metadata": {
        "colab": {
          "base_uri": "https://localhost:8080/"
        },
        "id": "hqKryzXKFl6_",
        "outputId": "2a61a454-0013-4367-a27d-d7dcaa387400"
      },
      "execution_count": null,
      "outputs": [
        {
          "output_type": "stream",
          "name": "stdout",
          "text": [
            "Enter a word: is\n",
            "is is a Python keyword.\n"
          ]
        }
      ]
    },
    {
      "cell_type": "code",
      "source": [
        "#Q5 immutability in list and tuple\n",
        "L=['manya', 4, True , 'a']\n",
        "t=('manya', 4, True , 'a')\n",
        "print('original tuple- ', t)\n",
        "print('original list- ',L)\n",
        "L[1]=12\n",
        "t[1]=12\n",
        "print('modified list- ', L)\n",
        "print('modified tuple- ', t) #gives error bcs tuples are not mutable"
      ],
      "metadata": {
        "colab": {
          "base_uri": "https://localhost:8080/",
          "height": 245
        },
        "collapsed": true,
        "id": "xznZJknrcnj9",
        "outputId": "4e50315a-9e63-4984-b7c1-b6452d17c6f3"
      },
      "execution_count": null,
      "outputs": [
        {
          "output_type": "stream",
          "name": "stdout",
          "text": [
            "original tuple-  ('manya', 4, True, 'a')\n",
            "original list-  ['manya', 4, True, 'a']\n"
          ]
        },
        {
          "output_type": "error",
          "ename": "TypeError",
          "evalue": "'tuple' object does not support item assignment",
          "traceback": [
            "\u001b[0;31m---------------------------------------------------------------------------\u001b[0m",
            "\u001b[0;31mTypeError\u001b[0m                                 Traceback (most recent call last)",
            "\u001b[0;32m<ipython-input-7-e889f5217d15>\u001b[0m in \u001b[0;36m<cell line: 0>\u001b[0;34m()\u001b[0m\n\u001b[1;32m      5\u001b[0m \u001b[0mprint\u001b[0m\u001b[0;34m(\u001b[0m\u001b[0;34m'original list- '\u001b[0m\u001b[0;34m,\u001b[0m\u001b[0mL\u001b[0m\u001b[0;34m)\u001b[0m\u001b[0;34m\u001b[0m\u001b[0;34m\u001b[0m\u001b[0m\n\u001b[1;32m      6\u001b[0m \u001b[0mL\u001b[0m\u001b[0;34m[\u001b[0m\u001b[0;36m1\u001b[0m\u001b[0;34m]\u001b[0m\u001b[0;34m=\u001b[0m\u001b[0;36m12\u001b[0m\u001b[0;34m\u001b[0m\u001b[0;34m\u001b[0m\u001b[0m\n\u001b[0;32m----> 7\u001b[0;31m \u001b[0mt\u001b[0m\u001b[0;34m[\u001b[0m\u001b[0;36m1\u001b[0m\u001b[0;34m]\u001b[0m\u001b[0;34m=\u001b[0m\u001b[0;36m12\u001b[0m\u001b[0;34m\u001b[0m\u001b[0;34m\u001b[0m\u001b[0m\n\u001b[0m\u001b[1;32m      8\u001b[0m \u001b[0mprint\u001b[0m\u001b[0;34m(\u001b[0m\u001b[0;34m'modified list- '\u001b[0m\u001b[0;34m,\u001b[0m \u001b[0mL\u001b[0m\u001b[0;34m)\u001b[0m\u001b[0;34m\u001b[0m\u001b[0;34m\u001b[0m\u001b[0m\n\u001b[1;32m      9\u001b[0m \u001b[0mprint\u001b[0m\u001b[0;34m(\u001b[0m\u001b[0;34m'modified tuplw- '\u001b[0m\u001b[0;34m,\u001b[0m \u001b[0mt\u001b[0m\u001b[0;34m)\u001b[0m\u001b[0;34m\u001b[0m\u001b[0;34m\u001b[0m\u001b[0m\n",
            "\u001b[0;31mTypeError\u001b[0m: 'tuple' object does not support item assignment"
          ]
        }
      ]
    },
    {
      "cell_type": "code",
      "source": [
        "#Q6\n",
        "mylist = [1, 2, 3]\n",
        "myint = 42\n",
        "mylist.append(10)\n",
        "print(\"Modified mutable object (list):\", mylist)\n",
        "\n",
        "myint += 5\n",
        "print(\"Modified immutable object (integer):\", myint)\n",
        "\n",
        "print(\"Original mutable object (list):\", mylist)  # List is modified\n",
        "print(\"Original immutable object (integer):\", myint)  # Integer remains changed\n"
      ],
      "metadata": {
        "colab": {
          "base_uri": "https://localhost:8080/"
        },
        "id": "GFsW1hTgetQX",
        "outputId": "ad4f42eb-88f2-4e7b-ec70-bd366c565d21"
      },
      "execution_count": null,
      "outputs": [
        {
          "output_type": "stream",
          "name": "stdout",
          "text": [
            "Modified mutable object (list): [1, 2, 3, 10]\n",
            "Modified immutable object (integer): 47\n",
            "Original mutable object (list): [1, 2, 3, 10]\n",
            "Original immutable object (integer): 47\n"
          ]
        }
      ]
    },
    {
      "cell_type": "code",
      "source": [
        "#Q7Write a program that performs basic arithmetic operations on two user-input numbers\n",
        "num1= int(input('enter first number(greater one)-'))\n",
        "num2= int(input('enter second number(smaller one)- '))\n",
        "print('ADDTION: ', num1 + num2)\n",
        "print('SUBTRACTION: ', num1-num2)\n",
        "print('MULTIPLICATION: ', num1*num2)\n",
        "print('DIVISION:',num1/num2)"
      ],
      "metadata": {
        "colab": {
          "base_uri": "https://localhost:8080/"
        },
        "id": "nz6ztHcfivw2",
        "outputId": "5beb42f2-2968-4222-dd9e-7c96f947f1e4"
      },
      "execution_count": null,
      "outputs": [
        {
          "output_type": "stream",
          "name": "stdout",
          "text": [
            "enter first number(greater one)-24\n",
            "enter second number(smaller one)- 4\n",
            "ADDTION:  28\n",
            "SUBTRACTION:  20\n",
            "MULTIPLICATION:  96\n",
            "DIVISION: 6.0\n"
          ]
        }
      ]
    },
    {
      "cell_type": "code",
      "source": [
        "#Q8logical operators\n",
        "# logical AND\n",
        "print(True and True)     # True\n",
        "print(True and False)    # False\n",
        "\n",
        "# logical OR\n",
        "print(True or False)     # True\n",
        "\n",
        "# logical NOT\n",
        "print(not True)          # False"
      ],
      "metadata": {
        "colab": {
          "base_uri": "https://localhost:8080/"
        },
        "id": "lT2_gqymkT5c",
        "outputId": "18f9de17-fe56-4ec2-e75f-d9afc8c1ad61"
      },
      "execution_count": 1,
      "outputs": [
        {
          "output_type": "stream",
          "name": "stdout",
          "text": [
            "True\n",
            "False\n",
            "True\n",
            "False\n"
          ]
        }
      ]
    },
    {
      "cell_type": "code",
      "source": [
        "#Q9. Write a Python program to convert user input from string to integer, float, and boolean types.\n",
        "string= input(\" enter a number\")\n",
        "strTOint = int(string)\n",
        "print(strTOint)\n",
        "\n",
        "print(float(string))\n",
        "\n",
        "print(bool(strTOint))"
      ],
      "metadata": {
        "colab": {
          "base_uri": "https://localhost:8080/"
        },
        "id": "qF-Y9c6HndXv",
        "outputId": "8567165b-37f4-41a6-e255-41221bfa0e53"
      },
      "execution_count": null,
      "outputs": [
        {
          "output_type": "stream",
          "name": "stdout",
          "text": [
            " enter a number1\n",
            "1\n",
            "1.0\n",
            "True\n"
          ]
        }
      ]
    },
    {
      "cell_type": "code",
      "source": [
        "#Q10Write code to demonstrate type casting with list elements.\n",
        "l=[1, 400, 3.65]\n",
        "newl=[]\n",
        "for i in l:\n",
        "  newl.append(str(i))\n",
        "print(l)\n",
        "print(newl)\n"
      ],
      "metadata": {
        "colab": {
          "base_uri": "https://localhost:8080/"
        },
        "id": "iRRay_KEp10q",
        "outputId": "ea9db3e9-0c56-47aa-b151-638db63b5330"
      },
      "execution_count": 7,
      "outputs": [
        {
          "output_type": "stream",
          "name": "stdout",
          "text": [
            "[1, 400, 3.65]\n",
            "['1', '400', '3.65']\n"
          ]
        }
      ]
    },
    {
      "cell_type": "code",
      "source": [
        "#Q11. Write a program that checks if a number is positive, negative, or zero.\n",
        "num= int(input('enter a number: '))\n",
        "if (num>0):\n",
        "  print(num,'is positive')\n",
        "elif(num==0):\n",
        "  print('the number is zero')\n",
        "else:\n",
        "  print('the number is negative')"
      ],
      "metadata": {
        "id": "IQKJkFuap3Gx",
        "colab": {
          "base_uri": "https://localhost:8080/"
        },
        "outputId": "845243f3-4071-4be9-fc38-b8abcc4dab9c"
      },
      "execution_count": 12,
      "outputs": [
        {
          "output_type": "stream",
          "name": "stdout",
          "text": [
            "enter a number: 77\n",
            "77 is positive\n"
          ]
        }
      ]
    },
    {
      "cell_type": "code",
      "source": [
        "#12. Write a for loop to print numbers from 1 to 10.\n",
        "for i in range(1,11):\n",
        "  print(i)"
      ],
      "metadata": {
        "colab": {
          "base_uri": "https://localhost:8080/"
        },
        "id": "UD5F9yspKG4G",
        "outputId": "d83a6b80-41ee-4a13-f40b-bde18088cd26"
      },
      "execution_count": 13,
      "outputs": [
        {
          "output_type": "stream",
          "name": "stdout",
          "text": [
            "1\n",
            "2\n",
            "3\n",
            "4\n",
            "5\n",
            "6\n",
            "7\n",
            "8\n",
            "9\n",
            "10\n"
          ]
        }
      ]
    },
    {
      "cell_type": "code",
      "source": [
        "#13. Write a Python program to find the sum of all even numbers between 1 and 50.\n",
        "sum=0\n",
        "for i in range(1,51):\n",
        "  if i%2==0:\n",
        "    sum+=i\n",
        "print(sum)"
      ],
      "metadata": {
        "colab": {
          "base_uri": "https://localhost:8080/"
        },
        "id": "LTPghc5qKLyu",
        "outputId": "b2f4af4b-934e-4d07-9338-09f6d8f83ce8"
      },
      "execution_count": 17,
      "outputs": [
        {
          "output_type": "stream",
          "name": "stdout",
          "text": [
            "650\n"
          ]
        }
      ]
    },
    {
      "cell_type": "code",
      "source": [
        "#14. Write a program to reverse a string using a while loop.\n",
        "text= 'python'\n",
        "rev_str= ''\n",
        "index= len(text)-1\n",
        "while index>=0:\n",
        "  rev_str= rev_str+ text[index]\n",
        "  index-=1\n",
        "print('original string: ', text)\n",
        "print('reversed string: ', rev_str)"
      ],
      "metadata": {
        "colab": {
          "base_uri": "https://localhost:8080/"
        },
        "id": "AbcgzvOTKPvG",
        "outputId": "10d07e89-8d3a-4189-a9f3-fcbdc5114f37"
      },
      "execution_count": 24,
      "outputs": [
        {
          "output_type": "stream",
          "name": "stdout",
          "text": [
            "original string:  python\n",
            "reversed string:  nohtyp\n"
          ]
        }
      ]
    },
    {
      "cell_type": "code",
      "source": [
        "#15. Write a Python program to calculate the factorial of a number provided by the user using a while loop.\n",
        "num= int(input('enter a number: '))\n",
        "fact=1\n",
        "while(num>0):\n",
        "  fact= fact*num\n",
        "  num-=1\n",
        "print('the factorial of the number is', fact)"
      ],
      "metadata": {
        "colab": {
          "base_uri": "https://localhost:8080/"
        },
        "id": "mtCfg0meKR8v",
        "outputId": "1abd6811-d42a-4544-e018-82c34d75ba94"
      },
      "execution_count": 27,
      "outputs": [
        {
          "output_type": "stream",
          "name": "stdout",
          "text": [
            "enter a number: 4\n",
            "the factorial of the number is 24\n"
          ]
        }
      ]
    }
  ]
}